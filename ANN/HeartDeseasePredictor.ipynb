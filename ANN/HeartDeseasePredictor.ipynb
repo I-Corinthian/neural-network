{
  "nbformat": 4,
  "nbformat_minor": 0,
  "metadata": {
    "colab": {
      "provenance": []
    },
    "kernelspec": {
      "name": "python3",
      "display_name": "Python 3"
    },
    "language_info": {
      "name": "python"
    }
  },
  "cells": [
    {
      "cell_type": "code",
      "execution_count": 1,
      "metadata": {
        "id": "VthFeH-BLvtP"
      },
      "outputs": [],
      "source": [
        "import numpy as np\n",
        "import pandas as pd\n",
        "import tensorflow as tf"
      ]
    },
    {
      "cell_type": "code",
      "source": [
        "df = pd.read_csv('heart_disease_health_indicators.csv')\n",
        "X = df[['HighBP','HighChol','BMI','Smoker','Stroke','Diabetes','PhysActivity','Fruits','Veggies','HvyAlcoholConsump','DiffWalk','Sex','Age']]\n",
        "y = df['HeartDiseaseorAttack']"
      ],
      "metadata": {
        "id": "DhhyT0WZL1JU"
      },
      "execution_count": 2,
      "outputs": []
    },
    {
      "cell_type": "code",
      "source": [
        "from sklearn.model_selection import train_test_split\n",
        "X_train, X_test, y_train, y_test = train_test_split(X, y, test_size = 0.2)"
      ],
      "metadata": {
        "id": "EHD60zj8RE0v"
      },
      "execution_count": 3,
      "outputs": []
    },
    {
      "cell_type": "code",
      "source": [
        "from sklearn.preprocessing import StandardScaler\n",
        "sc = StandardScaler()\n",
        "X_train = sc.fit_transform(X_train)\n",
        "X_test = sc.fit_transform(X_test)"
      ],
      "metadata": {
        "id": "zqVqPo2nRaWI"
      },
      "execution_count": 4,
      "outputs": []
    },
    {
      "cell_type": "code",
      "source": [
        "ann = tf.keras.models.Sequential()\n",
        "ann.add(tf.keras.layers.Dense(units=13,activation='relu'))\n",
        "ann.add(tf.keras.layers.Dense(units=7,activation='relu'))\n",
        "ann.add(tf.keras.layers.Dense(units=7,activation='relu'))\n",
        "ann.add(tf.keras.layers.Dense(units=6,activation='relu'))\n",
        "ann.add(tf.keras.layers.Dense(units=6,activation='relu'))\n",
        "ann.add(tf.keras.layers.Dense(units=6,activation='relu'))\n",
        "ann.add(tf.keras.layers.Dense(units=7,activation='relu'))\n",
        "ann.add(tf.keras.layers.Dense(units=7,activation='relu'))\n",
        "ann.add(tf.keras.layers.Dense(units=1,activation='sigmoid'))\n",
        "\n",
        "ann.compile(optimizer = 'adam',loss = 'binary_crossentropy',metrics = ['accuracy'])\n",
        "ann.fit(X_train, y_train , batch_size= 120, epochs= 400)"
      ],
      "metadata": {
        "id": "K5T_FlWyRd6f"
      },
      "execution_count": null,
      "outputs": []
    },
    {
      "cell_type": "code",
      "source": [
        "while True:\n",
        "\n",
        "   HighBP = input(\"high BP \")\n",
        "\n",
        "   HighChol = input(\"high chol \")\n",
        "\n",
        "   BMI = input(\"enter BMI \")\n",
        "\n",
        "   Smoker = input(\"smoker \")\n",
        "\n",
        "   Stroke = input(\"Stroke \")\n",
        "\n",
        "   Diabetes = input(\"Diabetes \")\n",
        "\n",
        "   PhysActivity = input(\"Physical Activity \")\n",
        "\n",
        "   Fruits = input(\"Fruits \")\n",
        "\n",
        "   Veggies = input('Veggies ')\n",
        "\n",
        "   HvyAlcoholConsump = input(\"Heavy Alcohol Consumption \")\n",
        "\n",
        "   DiffWalk = input(\"Difficulty in walking \")\n",
        "\n",
        "   Sex = input(\"gender \")\n",
        "\n",
        "   Age = input(\"age \")\n",
        "\n",
        "   X_pred = [np.array([HighBP ,HighChol ,BMI ,Smoker ,Stroke ,Diabetes ,PhysActivity ,Fruits ,Veggies ,HvyAlcoholConsump ,DiffWalk ,Sex ,Age])]\n",
        "\n",
        "   print(ann.predict(sc.transform(X_pred)))\n",
        "\n",
        "   quit = input(\"1 to con 0 to quit\")\n",
        "\n",
        "   if quit == '0':\n",
        "    break\n",
        "\n"
      ],
      "metadata": {
        "id": "DHwOjZIzZHNN"
      },
      "execution_count": null,
      "outputs": []
    }
  ]
}